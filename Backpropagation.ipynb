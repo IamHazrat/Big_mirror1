{
  "nbformat": 4,
  "nbformat_minor": 0,
  "metadata": {
    "colab": {
      "provenance": [],
      "include_colab_link": true
    },
    "kernelspec": {
      "name": "python3",
      "display_name": "Python 3"
    },
    "language_info": {
      "name": "python"
    }
  },
  "cells": [
    {
      "cell_type": "markdown",
      "metadata": {
        "id": "view-in-github",
        "colab_type": "text"
      },
      "source": [
        "<a href=\"https://colab.research.google.com/github/IamHazrat/Big_mirror1/blob/master/Backpropagation.ipynb\" target=\"_parent\"><img src=\"https://colab.research.google.com/assets/colab-badge.svg\" alt=\"Open In Colab\"/></a>"
      ]
    },
    {
      "cell_type": "code",
      "source": [
        "import numpy as np\n",
        "import math\n",
        "import random"
      ],
      "metadata": {
        "id": "DdBn07F83r_V"
      },
      "execution_count": 1,
      "outputs": []
    },
    {
      "cell_type": "code",
      "source": [
        "def F(w,x):\n",
        "  return sum([w*x for w,x in zip(w,x)])"
      ],
      "metadata": {
        "id": "B3r_gn4QKQBy"
      },
      "execution_count": 2,
      "outputs": []
    },
    {
      "cell_type": "code",
      "source": [
        "def sigmoid(x):\n",
        "  return 1.0/(1+math.exp(-x))"
      ],
      "metadata": {
        "id": "tKVwu7s4Kc4a"
      },
      "execution_count": 3,
      "outputs": []
    },
    {
      "cell_type": "code",
      "source": [
        "def result(x):\n",
        "  return max([0.0,x])"
      ],
      "metadata": {
        "id": "HJmHxjLAXzxC"
      },
      "execution_count": 4,
      "outputs": []
    },
    {
      "cell_type": "code",
      "source": [
        "def classify(model,x):\n",
        "  return [1 if sigmoid(F(model,x))>0.5 else 0 for x in X]"
      ],
      "metadata": {
        "id": "9F3DyfoYYIL8"
      },
      "execution_count": 5,
      "outputs": []
    },
    {
      "cell_type": "code",
      "source": [
        "def predict(model,x):\n",
        "  w1=model[0]\n",
        "  w2=model[1]\n",
        "  w3=model[2]\n",
        "  w4=model[3]\n",
        "  w5=model[4]\n",
        "  z1=sigmoid(F(w1,x))\n",
        "  z2=sigmoid(F(w2,x))\n",
        "  z3=sigmoid(F(w3,x))\n",
        "  z4=sigmoid(F(w4,x))\n",
        "  z5=sigmoid(F(w5,x))\n",
        "  z=(1,z1,z2,z3,z4,z5)\n",
        "  y=sigmoid(F(v1,z))\n",
        "  return y"
      ],
      "metadata": {
        "id": "BtLkQ-EQYsMW"
      },
      "execution_count": 6,
      "outputs": []
    },
    {
      "cell_type": "code",
      "source": [
        "def classifyY(Y):\n",
        "  return [1 if y>0.5 else 0 for y in Y]"
      ],
      "metadata": {
        "id": "-17WHWfLZshD"
      },
      "execution_count": 7,
      "outputs": []
    },
    {
      "cell_type": "markdown",
      "source": [
        "Training Data"
      ],
      "metadata": {
        "id": "xQwGNICV1Z5g"
      }
    },
    {
      "cell_type": "code",
      "source": [
        "data=[((0,0),0),((0,1),1),((1,0),1),((1,1),0)]"
      ],
      "metadata": {
        "id": "ErkEh84C1evo"
      },
      "execution_count": 8,
      "outputs": []
    },
    {
      "cell_type": "markdown",
      "source": [
        "**Initialize Random weights**\n"
      ],
      "metadata": {
        "id": "tLaeaMKF18pm"
      }
    },
    {
      "cell_type": "code",
      "source": [
        "np.random.seed(42)\n",
        "def random_weights(weights,range):\n",
        "  newWeights=[]\n",
        "  for w in weights:\n",
        "    newWeights.append([np.random.uniform(-1*range,range) for we in w])\n",
        "  return newWeights\n",
        "w1=[0,0,0]\n",
        "w2=[0,0,0]\n",
        "w3=[0,0,0]\n",
        "w4=[0,0,0]\n",
        "w5=[0,0,0]\n",
        "v1=[0,0,0]\n",
        "[w1,w2,w3,w4,w5,v1]=random_weights([w1,w2,w3,w4,w5,v1],1)\n",
        "model=[w1,w2,w3,w4,w5,v1]\n",
        "print(f\"Initial random weights:{model}\")"
      ],
      "metadata": {
        "colab": {
          "base_uri": "https://localhost:8080/"
        },
        "id": "aE_Ou45Q2AXu",
        "outputId": "19f04814-c8ed-42d0-f0e1-c23fd5872a20"
      },
      "execution_count": 9,
      "outputs": [
        {
          "output_type": "stream",
          "name": "stdout",
          "text": [
            "Initial random weights:[[-0.250919762305275, 0.9014286128198323, 0.4639878836228102], [0.1973169683940732, -0.687962719115127, -0.6880109593275947], [-0.8838327756636011, 0.7323522915498704, 0.2022300234864176], [0.416145155592091, -0.9588310114083951, 0.9398197043239886], [0.6648852816008435, -0.5753217786434477, -0.6363500655857988], [-0.6331909802931324, -0.39151551408092455, 0.04951286326447568]]\n"
          ]
        }
      ]
    },
    {
      "cell_type": "markdown",
      "source": [
        "**Learning Rate Data** **And Data**"
      ],
      "metadata": {
        "id": "1CLnlC3OPM7l"
      }
    },
    {
      "cell_type": "code",
      "source": [
        "learning_rate=0.3\n",
        "train_data=data.copy()\n",
        "print(train_data)\n",
        "train_data=[((1,x1,x2),r) for ((x1,x2),r) in train_data]\n",
        "print(train_data)"
      ],
      "metadata": {
        "colab": {
          "base_uri": "https://localhost:8080/"
        },
        "id": "CW5ojpf71sC0",
        "outputId": "8095b4e8-3f07-4318-f648-f738330f8484"
      },
      "execution_count": 10,
      "outputs": [
        {
          "output_type": "stream",
          "name": "stdout",
          "text": [
            "[((0, 0), 0), ((0, 1), 1), ((1, 0), 1), ((1, 1), 0)]\n",
            "[((1, 0, 0), 0), ((1, 0, 1), 1), ((1, 1, 0), 1), ((1, 1, 1), 0)]\n"
          ]
        }
      ]
    },
    {
      "cell_type": "markdown",
      "source": [
        "**Backpropagation Algorithm**"
      ],
      "metadata": {
        "id": "7pBfSZu4Pb5s"
      }
    },
    {
      "cell_type": "code",
      "source": [
        "# Backpropagation function for training the model\n",
        "def Backpropagation(model, learning_rate, data, iterations, display_interval=100):\n",
        "    for i in range(iterations):\n",
        "        np.random.shuffle(data)\n",
        "        if i % display_interval == 0:\n",
        "          learning_rate = initial_learning_rate * np.exp(-i / iterations)\n",
        "          print(f\"Learning Rate:{learning_rate}\")\n",
        "          test_data = [((0, 0), 0), ((0, 1), 1), ((1, 0), 1), ((1, 1), 0)]\n",
        "          X_value = [np.array([1, x1, x2]) for (x1, x2), r in test_data]\n",
        "          Result = [r for (_, _), r in test_data]\n",
        "          yPred = [predict(model, x) for x in X_value]\n",
        "          s_error = sum((r - y) ** 2 for r, y in zip(Result, yPred))\n",
        "          accuracy = calculate_accuracy(model, test_data)\n",
        "          print(f\"Iteration: {i}, Squared Error: {s_error}, Accuracy: {accuracy}\\n\")\n",
        "          print(f\"Output for Data and Updated weights::{trained_model}\")\n",
        "        for x, r in data:\n",
        "            # Forward pass\n",
        "            w1, w2, w3, w4, w5, v1 = model\n",
        "            z1 = sigmoid(F(w1, x))\n",
        "            z2 = sigmoid(F(w2, x))\n",
        "            z3 = sigmoid(F(w3, x))\n",
        "            z4 = sigmoid(F(w4, x))\n",
        "            z5 = sigmoid(F(w5, x))\n",
        "            z = np.array([1, z1, z2, z3, z4, z5])\n",
        "            y = sigmoid(F(v1, z))\n",
        "            # Backward pass\n",
        "            delta_v1 = learning_rate * (r - y) * z\n",
        "            delta_w1 = learning_rate * (r - y) * v1[1] * z1 * (1 - z1) * x\n",
        "            delta_w2 = learning_rate * (r - y) * v1[2] * z2 * (1 - z2) * x\n",
        "            delta_w3 = learning_rate * (r - y) * v1[3] * z3 * (1 - z3) * x\n",
        "            delta_w4 = learning_rate * (r - y) * v1[4] * z4 * (1 - z4) * x\n",
        "            delta_w5 = learning_rate * (r - y) * v1[5] * z5 * (1 - z5) * x\n",
        "            v1 += delta_v1\n",
        "            w1 += delta_w1\n",
        "            w2 += delta_w2\n",
        "            w3 += delta_w3\n",
        "            w4 += delta_w4\n",
        "            w5 += delta_w5\n",
        "            model = [w1, w2, w3, w4, w5, v1]\n",
        "    return model\n"
      ],
      "metadata": {
        "id": "v_zWYhbp7C_C"
      },
      "execution_count": 11,
      "outputs": []
    },
    {
      "cell_type": "code",
      "source": [
        "initial_learning_rate=0.3"
      ],
      "metadata": {
        "id": "ySLiMz-e-ZIc"
      },
      "execution_count": 12,
      "outputs": []
    },
    {
      "cell_type": "markdown",
      "source": [
        "**Function to calculate accuracy**"
      ],
      "metadata": {
        "id": "-_klKv5gPlHB"
      }
    },
    {
      "cell_type": "code",
      "source": [
        "# Function to calculate accuracy\n",
        "def calculate_accuracy(model, data):\n",
        "    predictions = [predict(model, np.array([1, x1, x2])) for (x1, x2), _ in data]\n",
        "    ground_truth = [r for (_, _), r in data]\n",
        "    predictions = [1 if pred > 0.5 else 0 for pred in predictions]\n",
        "    correct_predictions = sum(1 for pred, actual in zip(predictions, ground_truth) if pred == actual)\n",
        "    return correct_predictions / len(data)"
      ],
      "metadata": {
        "id": "wkFuWkIc2h99"
      },
      "execution_count": 13,
      "outputs": []
    },
    {
      "cell_type": "code",
      "source": [
        "# Initialize model weights\n",
        "np.random.seed(42)\n",
        "w1 = np.zeros(3)\n",
        "w2 = np.zeros(3)\n",
        "w3 = np.zeros(3)\n",
        "w4 = np.zeros(3)\n",
        "w5 = np.zeros(3)\n",
        "v1 = np.zeros(6)\n",
        "model = [w1, w2, w3, w4, w5, v1]\n",
        "\n",
        "\n",
        "iterations = 1000\n",
        "\n",
        "# Train the model\n",
        "for c in range(1,6):\n",
        "   print(f\"experiment:{c}\\n\")\n",
        "   print(f\"Initial random weights:{model}\")\n",
        "   trained_model = Backpropagation(model, learning_rate, train_data, iterations)\n"
      ],
      "metadata": {
        "id": "3EDvuSZBGL8S",
        "colab": {
          "base_uri": "https://localhost:8080/",
          "height": 421
        },
        "outputId": "caff98f8-8bcb-4d09-df72-f0c30d82cb8c"
      },
      "execution_count": 14,
      "outputs": [
        {
          "output_type": "stream",
          "name": "stdout",
          "text": [
            "experiment:1\n",
            "\n",
            "Initial random weights:[array([0., 0., 0.]), array([0., 0., 0.]), array([0., 0., 0.]), array([0., 0., 0.]), array([0., 0., 0.]), array([0., 0., 0., 0., 0., 0.])]\n",
            "Learning Rate:0.3\n",
            "Iteration: 0, Squared Error: 1.0, Accuracy: 0.5\n",
            "\n"
          ]
        },
        {
          "output_type": "error",
          "ename": "NameError",
          "evalue": "name 'trained_model' is not defined",
          "traceback": [
            "\u001b[0;31m---------------------------------------------------------------------------\u001b[0m",
            "\u001b[0;31mNameError\u001b[0m                                 Traceback (most recent call last)",
            "\u001b[0;32m<ipython-input-14-ee64944e02e7>\u001b[0m in \u001b[0;36m<cell line: 15>\u001b[0;34m()\u001b[0m\n\u001b[1;32m     16\u001b[0m    \u001b[0mprint\u001b[0m\u001b[0;34m(\u001b[0m\u001b[0;34mf\"experiment:{c}\\n\"\u001b[0m\u001b[0;34m)\u001b[0m\u001b[0;34m\u001b[0m\u001b[0;34m\u001b[0m\u001b[0m\n\u001b[1;32m     17\u001b[0m    \u001b[0mprint\u001b[0m\u001b[0;34m(\u001b[0m\u001b[0;34mf\"Initial random weights:{model}\"\u001b[0m\u001b[0;34m)\u001b[0m\u001b[0;34m\u001b[0m\u001b[0;34m\u001b[0m\u001b[0m\n\u001b[0;32m---> 18\u001b[0;31m    \u001b[0mtrained_model\u001b[0m \u001b[0;34m=\u001b[0m \u001b[0mBackpropagation\u001b[0m\u001b[0;34m(\u001b[0m\u001b[0mmodel\u001b[0m\u001b[0;34m,\u001b[0m \u001b[0mlearning_rate\u001b[0m\u001b[0;34m,\u001b[0m \u001b[0mtrain_data\u001b[0m\u001b[0;34m,\u001b[0m \u001b[0miterations\u001b[0m\u001b[0;34m)\u001b[0m\u001b[0;34m\u001b[0m\u001b[0;34m\u001b[0m\u001b[0m\n\u001b[0m",
            "\u001b[0;32m<ipython-input-11-77b866001b9f>\u001b[0m in \u001b[0;36mBackpropagation\u001b[0;34m(model, learning_rate, data, iterations, display_interval)\u001b[0m\n\u001b[1;32m     13\u001b[0m           \u001b[0maccuracy\u001b[0m \u001b[0;34m=\u001b[0m \u001b[0mcalculate_accuracy\u001b[0m\u001b[0;34m(\u001b[0m\u001b[0mmodel\u001b[0m\u001b[0;34m,\u001b[0m \u001b[0mtest_data\u001b[0m\u001b[0;34m)\u001b[0m\u001b[0;34m\u001b[0m\u001b[0;34m\u001b[0m\u001b[0m\n\u001b[1;32m     14\u001b[0m           \u001b[0mprint\u001b[0m\u001b[0;34m(\u001b[0m\u001b[0;34mf\"Iteration: {i}, Squared Error: {s_error}, Accuracy: {accuracy}\\n\"\u001b[0m\u001b[0;34m)\u001b[0m\u001b[0;34m\u001b[0m\u001b[0;34m\u001b[0m\u001b[0m\n\u001b[0;32m---> 15\u001b[0;31m           \u001b[0mprint\u001b[0m\u001b[0;34m(\u001b[0m\u001b[0;34mf\"Output for Data and Updated weights::{trained_model}\"\u001b[0m\u001b[0;34m)\u001b[0m\u001b[0;34m\u001b[0m\u001b[0;34m\u001b[0m\u001b[0m\n\u001b[0m\u001b[1;32m     16\u001b[0m         \u001b[0;32mfor\u001b[0m \u001b[0mx\u001b[0m\u001b[0;34m,\u001b[0m \u001b[0mr\u001b[0m \u001b[0;32min\u001b[0m \u001b[0mdata\u001b[0m\u001b[0;34m:\u001b[0m\u001b[0;34m\u001b[0m\u001b[0;34m\u001b[0m\u001b[0m\n\u001b[1;32m     17\u001b[0m             \u001b[0;31m# Forward pass\u001b[0m\u001b[0;34m\u001b[0m\u001b[0;34m\u001b[0m\u001b[0m\n",
            "\u001b[0;31mNameError\u001b[0m: name 'trained_model' is not defined"
          ]
        }
      ]
    },
    {
      "cell_type": "markdown",
      "source": [
        "**Final Weights**"
      ],
      "metadata": {
        "id": "Ev-qfwgqP5ED"
      }
    },
    {
      "cell_type": "code",
      "source": [
        "# Print the final trained model\n",
        "print(\"Final weights:\", trained_model)"
      ],
      "metadata": {
        "colab": {
          "base_uri": "https://localhost:8080/",
          "height": 158
        },
        "id": "P21G6BfsBxsS",
        "outputId": "4787f52d-2315-4a25-9608-4f8ea3a39c23"
      },
      "execution_count": 15,
      "outputs": [
        {
          "output_type": "error",
          "ename": "NameError",
          "evalue": "name 'trained_model' is not defined",
          "traceback": [
            "\u001b[0;31m---------------------------------------------------------------------------\u001b[0m",
            "\u001b[0;31mNameError\u001b[0m                                 Traceback (most recent call last)",
            "\u001b[0;32m<ipython-input-15-2737916deb68>\u001b[0m in \u001b[0;36m<cell line: 2>\u001b[0;34m()\u001b[0m\n\u001b[1;32m      1\u001b[0m \u001b[0;31m# Print the final trained model\u001b[0m\u001b[0;34m\u001b[0m\u001b[0;34m\u001b[0m\u001b[0m\n\u001b[0;32m----> 2\u001b[0;31m \u001b[0mprint\u001b[0m\u001b[0;34m(\u001b[0m\u001b[0;34m\"Final weights:\"\u001b[0m\u001b[0;34m,\u001b[0m \u001b[0mtrained_model\u001b[0m\u001b[0;34m)\u001b[0m\u001b[0;34m\u001b[0m\u001b[0;34m\u001b[0m\u001b[0m\n\u001b[0m",
            "\u001b[0;31mNameError\u001b[0m: name 'trained_model' is not defined"
          ]
        }
      ]
    },
    {
      "cell_type": "markdown",
      "source": [
        "**Batch Version of Same Algorithm**"
      ],
      "metadata": {
        "id": "SOsLuciNQGbj"
      }
    },
    {
      "cell_type": "code",
      "source": [
        "import numpy as np\n",
        "import math\n",
        "\n",
        "# Function definitions for F, sigmoid, predict, and calculate_accuracy\n",
        "def F(w, x):\n",
        "    return np.dot(w, x)\n",
        "\n",
        "def sigmoid(x):\n",
        "    return 1.0 / (1 + np.exp(-x))\n",
        "\n",
        "def predict(model, x):\n",
        "    w1, w2, w3, w4, w5, v1 = model\n",
        "    z1 = sigmoid(F(w1, x))\n",
        "    z2 = sigmoid(F(w2, x))\n",
        "    z3 = sigmoid(F(w3, x))\n",
        "    z4 = sigmoid(F(w4, x))\n",
        "    z5 = sigmoid(F(w5, x))\n",
        "    z = np.array([1, z1, z2, z3, z4, z5])\n",
        "    return sigmoid(F(v1, z))\n",
        "\n",
        "def calculate_accuracy(model, data):\n",
        "    predictions = [predict(model, x) for x, _ in data]\n",
        "    ground_truth = [r for _, r in data]\n",
        "    predictions = [1 if pred > 0.5 else 0 for pred in predictions]\n",
        "    correct_predictions = sum(1 for pred, actual in zip(predictions, ground_truth) if pred == actual)\n",
        "    return correct_predictions / len(data)\n",
        "\n",
        "# Backpropagation function with batch version\n",
        "def Backpropagation(model, learning_rate, batch):\n",
        "    delta_v1_sum = np.zeros_like(model[5])\n",
        "    delta_w1_sum = np.zeros_like(model[0])\n",
        "    delta_w2_sum = np.zeros_like(model[1])\n",
        "    delta_w3_sum = np.zeros_like(model[2])\n",
        "    delta_w4_sum = np.zeros_like(model[3])\n",
        "    delta_w5_sum = np.zeros_like(model[4])\n",
        "\n",
        "    for x, r in batch:\n",
        "        # Forward pass\n",
        "        w1, w2, w3, w4, w5, v1 = model\n",
        "        z1 = sigmoid(F(w1, x))\n",
        "        z2 = sigmoid(F(w2, x))\n",
        "        z3 = sigmoid(F(w3, x))\n",
        "        z4 = sigmoid(F(w4, x))\n",
        "        z5 = sigmoid(F(w5, x))\n",
        "        z = np.array([1, z1, z2, z3, z4, z5])\n",
        "        y = sigmoid(F(v1, z))\n",
        "\n",
        "        # Backward pass\n",
        "        delta_v1 = learning_rate * (r - y) * z\n",
        "        delta_w1 = learning_rate * (r - y) * v1[1] * z1 * (1 - z1) * x\n",
        "        delta_w2 = learning_rate * (r - y) * v1[2] * z2 * (1 - z2) * x\n",
        "        delta_w3 = learning_rate * (r - y) * v1[3] * z3 * (1 - z3) * x\n",
        "        delta_w4 = learning_rate * (r - y) * v1[4] * z4 * (1 - z4) * x\n",
        "        delta_w5 = learning_rate * (r - y) * v1[5] * z5 * (1 - z5) * x\n",
        "\n",
        "        delta_v1_sum += delta_v1\n",
        "        delta_w1_sum += delta_w1\n",
        "        delta_w2_sum += delta_w2\n",
        "        delta_w3_sum += delta_w3\n",
        "        delta_w4_sum += delta_w4\n",
        "        delta_w5_sum += delta_w5\n",
        "\n",
        "    # Update model weights after processing the batch\n",
        "    model[5] += delta_v1_sum / len(batch)\n",
        "    model[0] += delta_w1_sum / len(batch)\n",
        "    model[1] += delta_w2_sum / len(batch)\n",
        "    model[2] += delta_w3_sum / len(batch)\n",
        "    model[3] += delta_w4_sum / len(batch)\n",
        "    model[4] += delta_w5_sum / len(batch)\n",
        "\n",
        "    return model\n",
        "\n",
        "# Training data\n",
        "train_data = [((0, 0), 0), ((0, 1), 1), ((1, 0), 1), ((1, 1), 0)]\n",
        "train_data = [(np.array([1, x1, x2]), r) for (x1, x2), r in train_data]\n",
        "\n",
        "# Hyperparameters\n",
        "learning_rate = 0.3\n",
        "iterations = 1000\n",
        "batch_size = 10\n",
        "\n",
        "# Run learning experiments 5 times with the batch version of the algorithm\n",
        "for experiment in range(5):\n",
        "    print(f\"Experiment {experiment+1}:\")\n",
        "\n",
        "    # Set different random seed for each experiment\n",
        "    np.random.seed(42 + experiment)\n",
        "\n",
        "    # Initialize model weights with random values\n",
        "    w1 = np.random.rand(3)\n",
        "    w2 = np.random.rand(3)\n",
        "    w3 = np.random.rand(3)\n",
        "    w4 = np.random.rand(3)\n",
        "    w5 = np.random.rand(3)\n",
        "    v1 = np.random.rand(6)\n",
        "    model = [w1, w2, w3, w4, w5, v1]\n",
        "\n",
        "    # Train the model\n",
        "    for i in range(iterations):\n",
        "        # Shuffle the training data for each iteration\n",
        "        np.random.shuffle(train_data)\n",
        "\n",
        "        # Split the data into batches\n",
        "        batches = [train_data[j:j+batch_size] for j in range(0, len(train_data), batch_size)]\n",
        "\n",
        "        for batch in batches:\n",
        "            # Perform backpropagation with the current batch\n",
        "            model = Backpropagation(model, learning_rate, batch)\n",
        "\n",
        "    # Calculate and print final accuracy\n",
        "    accuracy = calculate_accuracy(model, train_data)\n",
        "    print(f\"Updated Weights:{model}\")\n",
        "    print(\"Final accuracy:\", accuracy)\n",
        "    print()\n"
      ],
      "metadata": {
        "colab": {
          "base_uri": "https://localhost:8080/"
        },
        "id": "tl68TmLhOtZZ",
        "outputId": "41bb8bd7-9446-4ec9-bbda-5f3f5ee15d15"
      },
      "execution_count": 16,
      "outputs": [
        {
          "output_type": "stream",
          "name": "stdout",
          "text": [
            "Experiment 1:\n",
            "Updated Weights:[array([-0.29991283,  3.00363647,  3.41759443]), array([0.36668652, 0.84826231, 0.06966462]), array([0.14603546, 2.42628535, 2.78319109]), array([ 1.07238283, -1.50262458,  2.94396466]), array([0.61098347, 0.74733949, 0.08322454]), array([-1.07093778,  3.04738187, -1.02517721,  2.06105903, -2.50676121,\n",
            "       -0.90319631])]\n",
            "Final accuracy: 0.75\n",
            "\n",
            "Experiment 2:\n",
            "Updated Weights:[array([-0.17400119,  0.86471126,  0.41026623]), array([-0.20830525, -0.06523357,  1.60961647]), array([ 0.64113361,  1.95546997, -0.75221224]), array([-0.77302173,  3.96538782,  3.83299214]), array([0.26175855, 0.56882365, 0.93525712]), array([-0.64971251, -0.95232679, -1.55707624, -1.72293603,  4.47759978,\n",
            "       -0.3533927 ])]\n",
            "Final accuracy: 0.75\n",
            "\n",
            "Experiment 3:\n",
            "Updated Weights:[array([0.77693343, 0.70924666, 0.89303411]), array([0.04968399, 2.27205284, 2.13007067]), array([0.33350886, 0.43386744, 0.5283292 ]), array([ 0.96868475,  1.53532972, -0.82456472]), array([0.34941738, 0.0589016 , 0.35178955]), array([-0.55883982,  0.27421683,  2.10883246, -0.18137513, -1.29822197,\n",
            "       -0.46896579])]\n",
            "Final accuracy: 0.5\n",
            "\n",
            "Experiment 4:\n",
            "Updated Weights:[array([0.29029194, 1.98663585, 1.96538655]), array([0.06807364, 0.53684632, 0.56463553]), array([0.02335829, 0.31128424, 0.24779844]), array([0.60384687, 1.32044958, 1.22468799]), array([0.95757751, 0.52456172, 0.65731062]), array([-1.3495452 ,  1.77271307, -0.32156256, -0.63447729,  0.68501487,\n",
            "       -0.15450943])]\n",
            "Final accuracy: 0.75\n",
            "\n",
            "Experiment 5:\n",
            "Updated Weights:[array([ 0.62660606,  1.5526707 , -0.40413283]), array([-0.73145442,  3.91906995,  3.7706767 ]), array([-0.0921466 ,  0.58575886,  1.0806606 ]), array([0.23998482, 0.67517523, 0.35293842]), array([0.094659  , 0.42591337, 0.89286539]), array([-0.84222607, -1.49751751,  4.25586168, -0.70644775, -0.75170836,\n",
            "       -0.89256925])]\n",
            "Final accuracy: 0.75\n",
            "\n"
          ]
        }
      ]
    }
  ]
}